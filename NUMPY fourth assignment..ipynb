{
 "cells": [
  {
   "cell_type": "markdown",
   "id": "ad70cbd9",
   "metadata": {},
   "source": [
    "### ASSIGNMENT 27th-November,2023\n",
    "#### Study spliting method and stacking method in numpy."
   ]
  },
  {
   "cell_type": "markdown",
   "id": "d6d6543d",
   "metadata": {},
   "source": [
    "#### 1. Splitting method: \n",
    "#### This involves splitting the array into divisions, which can be done by using the array name and the number of splits\n",
    "#### (Equal divisions)."
   ]
  },
  {
   "cell_type": "code",
   "execution_count": 1,
   "id": "2e925159",
   "metadata": {},
   "outputs": [],
   "source": [
    "import numpy as np"
   ]
  },
  {
   "cell_type": "code",
   "execution_count": 5,
   "id": "288c9b37",
   "metadata": {},
   "outputs": [
    {
     "name": "stdout",
     "output_type": "stream",
     "text": [
      "[ 0  1  2  3  4  5  6  7  8  9 10]\n"
     ]
    }
   ],
   "source": [
    "A=np.arange(11)\n",
    "print(A)\n"
   ]
  },
  {
   "cell_type": "markdown",
   "id": "1ff59445",
   "metadata": {},
   "source": [
    "#### Splitting the array:\n",
    "#### Example 1:"
   ]
  },
  {
   "cell_type": "code",
   "execution_count": 11,
   "id": "80cb4e3b",
   "metadata": {},
   "outputs": [
    {
     "data": {
      "text/plain": [
       "[array([0, 1, 2, 3, 4, 5]), array([ 6,  7,  8,  9, 10])]"
      ]
     },
     "execution_count": 11,
     "metadata": {},
     "output_type": "execute_result"
    }
   ],
   "source": [
    "np.array_split(A,2)"
   ]
  },
  {
   "cell_type": "code",
   "execution_count": 12,
   "id": "4cc83473",
   "metadata": {},
   "outputs": [
    {
     "data": {
      "text/plain": [
       "[array([0, 1, 2, 3]), array([4, 5, 6, 7]), array([ 8,  9, 10])]"
      ]
     },
     "execution_count": 12,
     "metadata": {},
     "output_type": "execute_result"
    }
   ],
   "source": [
    "np.array_split(A,3)"
   ]
  },
  {
   "cell_type": "markdown",
   "id": "a025ee2f",
   "metadata": {},
   "source": [
    "#### 2. Stacking method:\n",
    "#### Stacking involves dividing arrays using rows and columns.\n",
    "#### Example 1:"
   ]
  },
  {
   "cell_type": "code",
   "execution_count": 6,
   "id": "0631dba4",
   "metadata": {},
   "outputs": [
    {
     "name": "stdout",
     "output_type": "stream",
     "text": [
      "[[1 2]\n",
      " [3 4]\n",
      " [5 6]]\n"
     ]
    }
   ],
   "source": [
    "import numpy as np\n",
    "array1 = np.array([[1, 2], [3, 4]])\n",
    "array2 = np.array([[5, 6]])\n",
    "result = np.concatenate((array1, array2), axis=0)\n",
    "print(result)\n"
   ]
  },
  {
   "cell_type": "markdown",
   "id": "b7a75e91",
   "metadata": {},
   "source": [
    "### 3. Fancy Indexing: \n",
    "#### This allows for more complex and flexible indexing compared to simple integer or slice indexing.\n",
    "#### Fancy indexing is of two types;\n",
    "#### (a)Integer Array indexing:\n",
    "#### Integer array indexing uses integers as indices to acess elements in other array.\n",
    "#### Example:"
   ]
  },
  {
   "cell_type": "code",
   "execution_count": 6,
   "id": "6cfe8dc3",
   "metadata": {},
   "outputs": [
    {
     "name": "stdout",
     "output_type": "stream",
     "text": [
      "[3 4 5]\n"
     ]
    }
   ],
   "source": [
    "import numpy as np\n",
    "first_array=np.arange(3,6)\n",
    "print(first_array)"
   ]
  },
  {
   "cell_type": "code",
   "execution_count": 7,
   "id": "5d15154b",
   "metadata": {},
   "outputs": [
    {
     "name": "stdout",
     "output_type": "stream",
     "text": [
      "[3 5]\n"
     ]
    }
   ],
   "source": [
    "indices=np.array([0,2])\n",
    "second_array=first_array[indices]\n",
    "print(second_array)"
   ]
  },
  {
   "cell_type": "markdown",
   "id": "d035fb82",
   "metadata": {},
   "source": [
    "#### Modification:"
   ]
  },
  {
   "cell_type": "code",
   "execution_count": 8,
   "id": "1be5ac69",
   "metadata": {},
   "outputs": [
    {
     "name": "stdout",
     "output_type": "stream",
     "text": [
      "[0 4 0]\n"
     ]
    }
   ],
   "source": [
    "first_array[indices]=0\n",
    "print(first_array)"
   ]
  },
  {
   "cell_type": "markdown",
   "id": "0fa7b50a",
   "metadata": {},
   "source": [
    "#### (b) Boolean Array Indexing:\n",
    "#### This array indexing creates a condition for selecting elements in an array.\n",
    "#### Example:"
   ]
  },
  {
   "cell_type": "code",
   "execution_count": 10,
   "id": "a7fbc4d3",
   "metadata": {},
   "outputs": [
    {
     "name": "stdout",
     "output_type": "stream",
     "text": [
      "[ 5  6  7  8  9 10 11 12 13 14 15 16 17 18 19]\n"
     ]
    }
   ],
   "source": [
    "new_array=np.arange(5,20)\n",
    "print(new_array)"
   ]
  },
  {
   "cell_type": "code",
   "execution_count": 13,
   "id": "a0a1d779",
   "metadata": {},
   "outputs": [
    {
     "name": "stdout",
     "output_type": "stream",
     "text": [
      "[16 17 18 19]\n"
     ]
    }
   ],
   "source": [
    "condition=new_array>15\n",
    "next_array=new_array[condition]\n",
    "print(next_array)"
   ]
  },
  {
   "cell_type": "markdown",
   "id": "e2224f72",
   "metadata": {},
   "source": [
    "### 4. Masking:\n",
    "#### Masking refers to the use of boolean arrays to index elements in an array based on certain conditions.\n",
    "#### This method determines if a conditon is true or not"
   ]
  },
  {
   "cell_type": "code",
   "execution_count": 16,
   "id": "665b77cd",
   "metadata": {},
   "outputs": [
    {
     "name": "stdout",
     "output_type": "stream",
     "text": [
      "[ True False  True False  True]\n"
     ]
    }
   ],
   "source": [
    "Array=np.array([10,3,30,7,50])\n",
    "mask=Array%2==0\n",
    "print(mask)"
   ]
  },
  {
   "cell_type": "code",
   "execution_count": 15,
   "id": "7fba6ca9",
   "metadata": {},
   "outputs": [
    {
     "name": "stdout",
     "output_type": "stream",
     "text": [
      "[10 30 50]\n"
     ]
    }
   ],
   "source": [
    "#Printing this condition this way, gives only the elements that are true.\n",
    "Array=np.array([10,3,30,7,50])\n",
    "mask=Array%2==0\n",
    "print(Array[mask]) "
   ]
  },
  {
   "cell_type": "markdown",
   "id": "f6c46eaf",
   "metadata": {},
   "source": [
    "#### Modification:"
   ]
  },
  {
   "cell_type": "code",
   "execution_count": 19,
   "id": "ff75915b",
   "metadata": {},
   "outputs": [
    {
     "name": "stdout",
     "output_type": "stream",
     "text": [
      "[10  3 30 27 50  3]\n"
     ]
    }
   ],
   "source": [
    "Array=np.array([10,3,30,27,50,3])\n",
    "mask=(Array%2==0)|(Array%3==0)\n",
    "print(Array[mask]) "
   ]
  },
  {
   "cell_type": "code",
   "execution_count": null,
   "id": "4a4f19cb",
   "metadata": {},
   "outputs": [],
   "source": []
  }
 ],
 "metadata": {
  "kernelspec": {
   "display_name": "Python 3 (ipykernel)",
   "language": "python",
   "name": "python3"
  },
  "language_info": {
   "codemirror_mode": {
    "name": "ipython",
    "version": 3
   },
   "file_extension": ".py",
   "mimetype": "text/x-python",
   "name": "python",
   "nbconvert_exporter": "python",
   "pygments_lexer": "ipython3",
   "version": "3.10.9"
  }
 },
 "nbformat": 4,
 "nbformat_minor": 5
}
